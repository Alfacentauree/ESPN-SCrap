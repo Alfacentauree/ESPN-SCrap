{
 "cells": [
  {
   "cell_type": "markdown",
   "metadata": {},
   "source": [
    "# Web Scraping in Python: Analyzing NBA Player Salaries"
   ]
  },
  {
   "cell_type": "markdown",
   "metadata": {},
   "source": [
    "Erick Lu\n",
    "\n",
    "March 22, 2020"
   ]
  },
  {
   "cell_type": "markdown",
   "metadata": {},
   "source": [
    "This will be a tutorial on web scraping using Python’s urllib and regular expression modules. I will be using these tools to write a python script that will “scrape” data from the ESPN website and extract player information. Web scraping is a useful technique for extracting data from websites that don’t offer formatted, raw data for download. You can write scripts to automate the process of obtaining information from these websites, so that you don’t have to spend hours flipping through each page and copy-pasting.\n",
    "\n",
    "As an example, I will be scraping data for the salaries of all the players in the NBA (as of currently, March 2020). We can use the data to compute metrics such as:\n",
    "\n",
    "1. the average salary paid to each individual team in the NBA.\n",
    "2. the highest salary (and corresponding player) on each team in the NBA.\n",
    "\n",
    "Let’s first plan out how to do this in the easiest possible way, before diving into the code. We will first take a look at the website to figure out which web pages we need to scrape information from.\n",
    "\n",
    "The teams page looks like the following:"
   ]
  },
  {
   "cell_type": "markdown",
   "metadata": {},
   "source": [
    "![ESPN_teams_webpage.png](images/ESPN_teams_webpage.png)"
   ]
  },
  {
   "cell_type": "markdown",
   "metadata": {},
   "source": [
    "This looks very promising. All the team names are listed on this page, which means that they can easily be extracted from the page source. Let’s take a look at the page source to see if the we can find the URLs for each team's roster:"
   ]
  },
  {
   "cell_type": "markdown",
   "metadata": {},
   "source": [
    "![ESPN_teams_source.png](images/ESPN_teams_source.png)"
   ]
  },
  {
   "cell_type": "markdown",
   "metadata": {},
   "source": [
    "It looks like URLs for each of the teams rosters are listed in the page source with the following format: http://espn.go.com/nba/team/roster/_/name/team/team-name, as shown in the highlighted portion of the image above. Given that these are all following the same format, we can use regular expressions to pull out a list of all the teams the page source. Then, we can systematically loop through all of the team rosters and use regular expressions again to extract the player salaries from page sources for each roster."
   ]
  },
  {
   "cell_type": "markdown",
   "metadata": {},
   "source": [
    "Let’s take a look at the Roster page within each team’s URL. Below is a screenshot of the Golden State Warrior’s roster page and page source:"
   ]
  },
  {
   "cell_type": "markdown",
   "metadata": {},
   "source": [
    "![GSW_roster_webpage.png](images/GSW_roster_webpage.png)"
   ]
  },
  {
   "cell_type": "markdown",
   "metadata": {},
   "source": [
    "Again, looking at the page source reveals that each player’s name and information are all provided in a specific pattern, which we can take advantage of when using RegEx’s to extract snippets of data from each page source."
   ]
  },
  {
   "cell_type": "markdown",
   "metadata": {},
   "source": [
    "![GSW_roster_source.png](images/GSW_roster_source.png)"
   ]
  },
  {
   "cell_type": "markdown",
   "metadata": {},
   "source": [
    "After examining the general structure of the website, we can begin to write the python script.\n",
    "Start by importing the “urllib” and “re” packages:"
   ]
  },
  {
   "cell_type": "code",
   "execution_count": 2,
   "metadata": {},
   "outputs": [],
   "source": [
    "import re\n",
    "import urllib\n",
    "from time import sleep"
   ]
  },
  {
   "cell_type": "markdown",
   "metadata": {},
   "source": [
    "Now, let’s create a function that will extract all the team names from the\n",
    "URL: http://espn.go.com/nba/teams, and return a list of each team’s roster URL:"
   ]
  },
  {
   "cell_type": "code",
   "execution_count": 16,
   "metadata": {},
   "outputs": [
    {
     "data": {
      "text/plain": [
       "{'atl': 'atlanta-hawks',\n",
       " 'bkn': 'brooklyn-nets',\n",
       " 'bos': 'boston-celtics',\n",
       " 'cha': 'charlotte-hornets',\n",
       " 'chi': 'chicago-bulls',\n",
       " 'cle': 'cleveland-cavaliers',\n",
       " 'dal': 'dallas-mavericks',\n",
       " 'den': 'denver-nuggets',\n",
       " 'det': 'detroit-pistons',\n",
       " 'gs': 'golden-state-warriors',\n",
       " 'hou': 'houston-rockets',\n",
       " 'ind': 'indiana-pacers',\n",
       " 'lac': 'la-clippers',\n",
       " 'lal': 'los-angeles-lakers',\n",
       " 'mem': 'memphis-grizzlies',\n",
       " 'mia': 'miami-heat',\n",
       " 'mil': 'milwaukee-bucks',\n",
       " 'min': 'minnesota-timberwolves',\n",
       " 'no': 'new-orleans-pelicans',\n",
       " 'ny': 'new-york-knicks',\n",
       " 'okc': 'oklahoma-city-thunder',\n",
       " 'orl': 'orlando-magic',\n",
       " 'phi': 'philadelphia-76ers',\n",
       " 'phx': 'phoenix-suns',\n",
       " 'por': 'portland-trail-blazers',\n",
       " 'sa': 'san-antonio-spurs',\n",
       " 'sac': 'sacramento-kings',\n",
       " 'tor': 'toronto-raptors',\n",
       " 'utah': 'utah-jazz',\n",
       " 'wsh': 'washington-wizards'}"
      ]
     },
     "execution_count": 16,
     "metadata": {},
     "output_type": "execute_result"
    }
   ],
   "source": [
    "f = urllib.request.urlopen('http://www.espn.com/nba/teams')\n",
    "words = f.read().decode('utf-8')\n",
    "\n",
    "re.findall\n",
    "\n",
    "teams = dict(re.findall(\"www\\.espn\\.com/nba/team/_/name/(\\w+)/(.+?)\\\",\", words))\n",
    "teams"
   ]
  },
  {
   "cell_type": "code",
   "execution_count": 17,
   "metadata": {},
   "outputs": [],
   "source": [
    "# This method finds the urls for each of the rosters in the NBA using regexes.\n",
    "def build_team_url():\n",
    "    # Open the espn teams webpage and extract the names of each roster available.\n",
    "    f = urllib.request.urlopen('http://www.espn.com/nba/teams')\n",
    "    words = f.read().decode('utf-8')\n",
    "    teams = dict(re.findall(\"www\\.espn\\.com/nba/team/_/name/(\\w+)/(.+?)\\\",\", words))\n",
    "    # Using the names of the rosters, this creates the urls of each roster in the NBA.\n",
    "    roster_urls = []\n",
    "    for key in teams.keys():\n",
    "        # each roster webpage follows this general pattern.\n",
    "        roster_urls.append('http://www.espn.com/nba/team/roster/_/name/' + key + '/' + teams[key])\n",
    "        teams[key] = str(teams[key])\n",
    "    return dict(zip(teams.values(), roster_urls))\n"
   ]
  },
  {
   "cell_type": "code",
   "execution_count": 18,
   "metadata": {},
   "outputs": [],
   "source": [
    "rosters = build_team_url()"
   ]
  },
  {
   "cell_type": "code",
   "execution_count": 47,
   "metadata": {},
   "outputs": [
    {
     "data": {
      "text/plain": [
       "{'atlanta-hawks': 'http://www.espn.com/nba/team/roster/_/name/atl/atlanta-hawks',\n",
       " 'boston-celtics': 'http://www.espn.com/nba/team/roster/_/name/bos/boston-celtics',\n",
       " 'brooklyn-nets': 'http://www.espn.com/nba/team/roster/_/name/bkn/brooklyn-nets',\n",
       " 'charlotte-hornets': 'http://www.espn.com/nba/team/roster/_/name/cha/charlotte-hornets',\n",
       " 'chicago-bulls': 'http://www.espn.com/nba/team/roster/_/name/chi/chicago-bulls',\n",
       " 'cleveland-cavaliers': 'http://www.espn.com/nba/team/roster/_/name/cle/cleveland-cavaliers',\n",
       " 'dallas-mavericks': 'http://www.espn.com/nba/team/roster/_/name/dal/dallas-mavericks',\n",
       " 'denver-nuggets': 'http://www.espn.com/nba/team/roster/_/name/den/denver-nuggets',\n",
       " 'detroit-pistons': 'http://www.espn.com/nba/team/roster/_/name/det/detroit-pistons',\n",
       " 'golden-state-warriors': 'http://www.espn.com/nba/team/roster/_/name/gs/golden-state-warriors',\n",
       " 'houston-rockets': 'http://www.espn.com/nba/team/roster/_/name/hou/houston-rockets',\n",
       " 'indiana-pacers': 'http://www.espn.com/nba/team/roster/_/name/ind/indiana-pacers',\n",
       " 'la-clippers': 'http://www.espn.com/nba/team/roster/_/name/lac/la-clippers',\n",
       " 'los-angeles-lakers': 'http://www.espn.com/nba/team/roster/_/name/lal/los-angeles-lakers',\n",
       " 'memphis-grizzlies': 'http://www.espn.com/nba/team/roster/_/name/mem/memphis-grizzlies',\n",
       " 'miami-heat': 'http://www.espn.com/nba/team/roster/_/name/mia/miami-heat',\n",
       " 'milwaukee-bucks': 'http://www.espn.com/nba/team/roster/_/name/mil/milwaukee-bucks',\n",
       " 'minnesota-timberwolves': 'http://www.espn.com/nba/team/roster/_/name/min/minnesota-timberwolves',\n",
       " 'new-orleans-pelicans': 'http://www.espn.com/nba/team/roster/_/name/no/new-orleans-pelicans',\n",
       " 'new-york-knicks': 'http://www.espn.com/nba/team/roster/_/name/ny/new-york-knicks',\n",
       " 'oklahoma-city-thunder': 'http://www.espn.com/nba/team/roster/_/name/okc/oklahoma-city-thunder',\n",
       " 'orlando-magic': 'http://www.espn.com/nba/team/roster/_/name/orl/orlando-magic',\n",
       " 'philadelphia-76ers': 'http://www.espn.com/nba/team/roster/_/name/phi/philadelphia-76ers',\n",
       " 'phoenix-suns': 'http://www.espn.com/nba/team/roster/_/name/phx/phoenix-suns',\n",
       " 'portland-trail-blazers': 'http://www.espn.com/nba/team/roster/_/name/por/portland-trail-blazers',\n",
       " 'sacramento-kings': 'http://www.espn.com/nba/team/roster/_/name/sac/sacramento-kings',\n",
       " 'san-antonio-spurs': 'http://www.espn.com/nba/team/roster/_/name/sa/san-antonio-spurs',\n",
       " 'toronto-raptors': 'http://www.espn.com/nba/team/roster/_/name/tor/toronto-raptors',\n",
       " 'utah-jazz': 'http://www.espn.com/nba/team/roster/_/name/utah/utah-jazz',\n",
       " 'washington-wizards': 'http://www.espn.com/nba/team/roster/_/name/wsh/washington-wizards'}"
      ]
     },
     "execution_count": 47,
     "metadata": {},
     "output_type": "execute_result"
    }
   ],
   "source": [
    "rosters"
   ]
  },
  {
   "cell_type": "markdown",
   "metadata": {},
   "source": [
    "Now, lets create a function that, for each team, will extract all the player names and salaries from the team’s ESPN roster URL, of the format http://espn.go.com/nba/team/roster/_/name/ + “TEAM NAME”,\n",
    "ie: http://espn.go.com/nba/team/roster/_/name/bos/boston-celtics."
   ]
  },
  {
   "cell_type": "code",
   "execution_count": 3,
   "metadata": {},
   "outputs": [],
   "source": [
    "url = \"https://www.espn.com/nba/team/roster/_/name/gs/golden-state-warriors\"\n",
    "f = urllib.request.urlopen(url)\n",
    "stats = f.read().decode('utf-8')"
   ]
  },
  {
   "cell_type": "code",
   "execution_count": 22,
   "metadata": {},
   "outputs": [
    {
     "data": {
      "text/plain": [
       "'\\\\{\"name\"\\\\:\"(\\\\w+\\\\s\\\\w+)\",\"href\"\\\\:\"http\\\\://www\\\\.espn\\\\.com/nba/player/.*?\",(.*?)\\\\}'"
      ]
     },
     "execution_count": 22,
     "metadata": {},
     "output_type": "execute_result"
    }
   ],
   "source": [
    "\"\"\"\n",
    "href=\"http://www.espn.com/nba/player/_/id/3975/stephen-curry\">Stephen Curry</a><span class=\"pl2 n10\">30</span></span></td><td class=\"Table__TD\"><span style=\"min-width:40px\" class=\"\">PG</span></td><td class=\"Table__TD\"><span style=\"min-width:40px\" class=\"\">32</span></td><td class=\"Table__TD\"><span style=\"min-width:50px\" class=\"\">6&#x27; 3&quot;</span></td><td class=\"Table__TD\"><span style=\"min-width:70px\" class=\"\">185 lbs</span></td><td class=\"Table__TD\"><span class=\"\">Davidson</span></td><td class=\"Table__TD\"><span class=\"\">$40,231,758</span></td></tr>\n",
    "\"\"\"\n",
    "\n",
    "player_info_regex = ('\\{\\\"name\\\"\\:\\\"(\\w+\\s\\w+)\\\",'\n",
    "                         '\\\"href\\\"\\:\\\"http\\://www\\.espn\\.com/nba/player/.*?\\\",(.*?)\\}')\n",
    "player_info_regex\n"
   ]
  },
  {
   "cell_type": "code",
   "execution_count": 24,
   "metadata": {},
   "outputs": [
    {
     "data": {
      "text/plain": [
       "[('Ky Bowman',\n",
       "  '\"uid\":\"s:40~l:46~a:4065635\",\"guid\":\"d0ef63e951bb5f842b7357521697dc62\",\"id\":\"4065635\",\"height\":\"6\\' 1\\\\\"\",\"weight\":\"187 lbs\",\"age\":22,\"position\":\"PG\",\"jersey\":\"12\",\"salary\":\"$350,189\",\"birthDate\":\"06/17/97\",\"headshot\":\"https://a.espncdn.com/i/headshots/nba/players/full/4065635.png\",\"lastName\":\"Ky Bowman\",\"experience\":0,\"college\":\"Boston College\"'),\n",
       " ('Marquese Chriss',\n",
       "  '\"uid\":\"s:40~l:46~a:3907487\",\"guid\":\"a320ecf1d6481b7518ddc1dc576c27b4\",\"id\":\"3907487\",\"height\":\"6\\' 9\\\\\"\",\"weight\":\"240 lbs\",\"age\":22,\"position\":\"C\",\"jersey\":\"32\",\"salary\":\"$654,469\",\"birthDate\":\"07/02/97\",\"headshot\":\"https://a.espncdn.com/i/headshots/nba/players/full/3907487.png\",\"lastName\":\"Marquese Chriss\",\"experience\":3,\"college\":\"Washington\",\"birthPlace\":\"Sacramento, CA\"'),\n",
       " ('Stephen Curry',\n",
       "  '\"uid\":\"s:40~l:46~a:3975\",\"guid\":\"5dda51f150c966e12026400b73f34fad\",\"id\":\"3975\",\"height\":\"6\\' 3\\\\\"\",\"weight\":\"185 lbs\",\"age\":32,\"position\":\"PG\",\"jersey\":\"30\",\"salary\":\"$40,231,758\",\"birthDate\":\"03/14/88\",\"headshot\":\"https://a.espncdn.com/i/headshots/nba/players/full/3975.png\",\"lastName\":\"Stephen Curry\",\"experience\":10,\"college\":\"Davidson\",\"birthPlace\":\"Akron, OH\"'),\n",
       " ('Draymond Green',\n",
       "  '\"uid\":\"s:40~l:46~a:6589\",\"guid\":\"de360720e41625f28a6bb5ff82616cb1\",\"id\":\"6589\",\"height\":\"6\\' 6\\\\\"\",\"weight\":\"230 lbs\",\"age\":30,\"position\":\"PF\",\"jersey\":\"23\",\"salary\":\"$18,539,130\",\"birthDate\":\"03/04/90\",\"headshot\":\"https://a.espncdn.com/i/headshots/nba/players/full/6589.png\",\"lastName\":\"Draymond Green\",\"experience\":7,\"college\":\"Michigan State\",\"birthPlace\":\"Saginaw, MI\"'),\n",
       " ('Damion Lee',\n",
       "  '\"uid\":\"s:40~l:46~a:2595209\",\"guid\":\"41fafb6d47a66d8f79f94161918541a4\",\"id\":\"2595209\",\"height\":\"6\\' 5\\\\\"\",\"weight\":\"210 lbs\",\"age\":27,\"position\":\"SG\",\"hand\":\"L\",\"jersey\":\"1\",\"salary\":\"$842,327\",\"birthDate\":\"10/21/92\",\"headshot\":\"https://a.espncdn.com/i/headshots/nba/players/full/2595209.png\",\"lastName\":\"Damion Lee\",\"experience\":2,\"college\":\"Louisville\"'),\n",
       " ('Kevon Looney',\n",
       "  '\"uid\":\"s:40~l:46~a:3155535\",\"guid\":\"10a8e77b877324c69966f0c4618caad6\",\"id\":\"3155535\",\"height\":\"6\\' 9\\\\\"\",\"weight\":\"222 lbs\",\"age\":24,\"position\":\"PF\",\"jersey\":\"5\",\"salary\":\"$4,464,226\",\"birthDate\":\"02/06/96\",\"headshot\":\"https://a.espncdn.com/i/headshots/nba/players/full/3155535.png\",\"lastName\":\"Kevon Looney\",\"experience\":4,\"college\":\"UCLA\",\"birthPlace\":\"Milwaukee, WI\"'),\n",
       " ('Mychal Mulder',\n",
       "  '\"uid\":\"s:40~l:46~a:3936298\",\"guid\":\"f5a46c489e9aee6a1a74f67f9494132f\",\"id\":\"3936298\",\"height\":\"6\\' 4\\\\\"\",\"weight\":\"184 lbs\",\"age\":25,\"position\":\"G\",\"jersey\":\"12\",\"birthDate\":\"06/12/94\",\"headshot\":\"https://a.espncdn.com/i/headshots/nba/players/full/3936298.png\",\"lastName\":\"Mychal Mulder\",\"experience\":0,\"college\":\"Kentucky\",\"birthPlace\":\"Toronto, ON\"'),\n",
       " ('Eric Paschall',\n",
       "  '\"uid\":\"s:40~l:46~a:3133817\",\"guid\":\"b67e5e0fa5cb209355845d165a49407e\",\"id\":\"3133817\",\"height\":\"6\\' 6\\\\\"\",\"weight\":\"255 lbs\",\"age\":23,\"position\":\"PF\",\"jersey\":\"7\",\"salary\":\"$898,310\",\"birthDate\":\"11/04/96\",\"headshot\":\"https://a.espncdn.com/i/headshots/nba/players/full/3133817.png\",\"lastName\":\"Eric Paschall\",\"experience\":0,\"college\":\"Villanova\",\"birthPlace\":\"North Tarrytown, NY\"'),\n",
       " ('Jordan Poole',\n",
       "  '\"uid\":\"s:40~l:46~a:4277956\",\"guid\":\"4b0492b5a52f267fe84098ef6d2e2bdf\",\"id\":\"4277956\",\"height\":\"6\\' 4\\\\\"\",\"weight\":\"194 lbs\",\"age\":20,\"position\":\"SG\",\"hand\":\"B\",\"jersey\":\"3\",\"salary\":\"$1,964,760\",\"birthDate\":\"06/19/99\",\"headshot\":\"https://a.espncdn.com/i/headshots/nba/players/full/4277956.png\",\"lastName\":\"Jordan Poole\",\"experience\":0,\"college\":\"Michigan\",\"birthPlace\":\"Milwaukee, WI\"'),\n",
       " ('Chasson Randle',\n",
       "  '\"uid\":\"s:40~l:46~a:2580898\",\"guid\":\"71b7154a3d81842448b623ee3e65d586\",\"id\":\"2580898\",\"height\":\"6\\' 2\\\\\"\",\"weight\":\"185 lbs\",\"age\":27,\"position\":\"PG\",\"jersey\":\"25\",\"birthDate\":\"02/05/93\",\"headshot\":\"https://a.espncdn.com/i/headshots/nba/players/full/2580898.png\",\"lastName\":\"Chasson Randle\",\"experience\":2,\"college\":\"Stanford\",\"birthPlace\":\"Rock Island, IL\"'),\n",
       " ('Alen Smailagic',\n",
       "  '\"uid\":\"s:40~l:46~a:4401415\",\"guid\":\"6ed3f8924bfef2e70329ebd6a104ecae\",\"id\":\"4401415\",\"height\":\"6\\' 10\\\\\"\",\"weight\":\"215 lbs\",\"age\":19,\"position\":\"PF\",\"jersey\":\"6\",\"salary\":\"$898,310\",\"birthDate\":\"08/18/00\",\"headshot\":\"https://a.espncdn.com/i/headshots/nba/players/full/4401415.png\",\"lastName\":\"Alen Smailagic\",\"experience\":0'),\n",
       " ('Klay Thompson',\n",
       "  '\"uid\":\"s:40~l:46~a:6475\",\"guid\":\"3411530a7ab7e8dce4f165d59a559520\",\"id\":\"6475\",\"height\":\"6\\' 6\\\\\"\",\"weight\":\"215 lbs\",\"age\":30,\"position\":\"SG\",\"jersey\":\"11\",\"salary\":\"$32,742,000\",\"birthDate\":\"02/08/90\",\"headshot\":\"https://a.espncdn.com/i/headshots/nba/players/full/6475.png\",\"lastName\":\"Klay Thompson\",\"experience\":8,\"college\":\"Washington State\",\"birthPlace\":\"Los Angeles, CA\"'),\n",
       " ('Andrew Wiggins',\n",
       "  '\"uid\":\"s:40~l:46~a:3059319\",\"guid\":\"064c19d065276a21ca99fdfb296fe05d\",\"id\":\"3059319\",\"height\":\"6\\' 7\\\\\"\",\"weight\":\"197 lbs\",\"age\":25,\"position\":\"SF\",\"jersey\":\"22\",\"salary\":\"$27,504,630\",\"birthDate\":\"02/23/95\",\"headshot\":\"https://a.espncdn.com/i/headshots/nba/players/full/3059319.png\",\"lastName\":\"Andrew Wiggins\",\"experience\":5,\"college\":\"Kansas\",\"birthPlace\":\"Thornhill, ON\"')]"
      ]
     },
     "execution_count": 24,
     "metadata": {},
     "output_type": "execute_result"
    }
   ],
   "source": [
    "player_info = re.findall(player_info_regex, stats)\n",
    "player_info"
   ]
  },
  {
   "cell_type": "code",
   "execution_count": 41,
   "metadata": {},
   "outputs": [
    {
     "name": "stdout",
     "output_type": "stream",
     "text": [
      "$18,539,130\n"
     ]
    }
   ],
   "source": [
    "import json\n",
    "\n",
    "teststring = \"{\"+player_info[3][1]+\"}\"\n",
    "teststring\n",
    "\n",
    "draymond = json.loads(teststring)\n",
    "\n",
    "type(draymond)\n",
    "\n",
    "draymond.keys()\n",
    "\n",
    "print(draymond[\"salary\"])\n"
   ]
  },
  {
   "cell_type": "code",
   "execution_count": 28,
   "metadata": {},
   "outputs": [],
   "source": [
    "# Using the url of each roster, extract the salary data using regexes and\n",
    "# perform calculations based on what we have extracted.\n",
    "def calculate_statistic(rosters):\n",
    "    # Create empty lists that will contain the statistics.\n",
    "    average_team_salaries = []\n",
    "    highest_salary_per_team = []\n",
    "    for url in rosters.values(): # Open website for each roster, one by one.\n",
    "        f = urllib.request.urlopen(url)\n",
    "        \n",
    "        stats = f.read().decode('utf-8')\n",
    "        '''\n",
    "        The salaries were embedded in the source code in this format:\n",
    "        {\"name\":\"Stephen Curry\",\"href\":\"http://www.espn.com/nba/player/_/id/3975/stephen-curry\",\n",
    "        \"uid\":\"s:40~l:46~a:3975\",\"guid\":\"5dda51f150c966e12026400b73f34fad\",\"id\":\"3975\",\n",
    "        \"height\":\"6' 3\\\"\",\"weight\":\"185 lbs\",\"age\":32,\"position\":\"PG\",\"jersey\":\"30\",\n",
    "        \"salary\":\"$40,231,758\",\"birthDate\":\"03/14/88\",\n",
    "        \"headshot\":\"https://a.espncdn.com/i/headshots/nba/players/full/3975.png\",\n",
    "        \"lastName\":\"Stephen Curry\",\"experience\":10,\"college\":\"Davidson\",\"birthPlace\":\"Akron, OH\"}\n",
    "        '''\n",
    "        # This is the regex pattern to return players and their corresponding salary.\n",
    "        player_info = dict(re.findall('', stats))\n",
    "        # in the dictionary, each player corresponds to a salary. change the salaries from strings to integers.\n",
    "        salaries = []\n",
    "        for key in player_salaries.keys():\n",
    "            if (str(player_salaries[key]) == '&nbsp;'):\n",
    "                player_salaries[key] = 'Not Reported'\n",
    "            else:\n",
    "                player_salaries[key] = int(re.sub(\"([,$])\",\"\", player_salaries[key]))\n",
    "                salaries.append (player_salaries[key])\n",
    "        # Sort the salaries and append them to the list,\n",
    "        # Also returns the person with the highest salary\n",
    "        highest_salary_per_team.append((str(find_key(player_salaries,sorted(salaries)[-1])),sorted(salaries)[-1]))\n",
    "        average_team_salaries.append(sum(salaries)/len(salaries))\n",
    "        sleep(1) # wait a second before opening next url so we don't get blocked\n",
    "        \n",
    "    # Prints the average salary out, with the team and salary side by side.\n",
    "    print (\"\\n\\nAverage Team Salaries in the NBA\\n(Average amount spent on each player)\\n\\n\")\n",
    "    team_with_salary = dict(zip(average_team_salaries, rosters.keys()))\n",
    "    average_team_salaries.sort()\n",
    "    for key in average_team_salaries:\n",
    "        print (team_with_salary[key], round(key,2))\n",
    "    # Prints the highest salaries out, with the team and salary side by side.\n",
    "    team_with_highest = dict(zip(highest_salary_per_team, rosters.keys() ))\n",
    "    highest_salary_per_team.sort(key=lambda highest_salary_per_team: highest_salary_per_team[1])\n",
    "    print (\"\\n\\nPlayer with the highest salary per team in the NBA\\n\\n\")\n",
    "    for key in highest_salary_per_team:\n",
    "        print (team_with_highest[key], key)\n"
   ]
  },
  {
   "cell_type": "markdown",
   "metadata": {},
   "source": [
    "Now that we have our function’s defined, we can write a few lines of code to execute each function."
   ]
  },
  {
   "cell_type": "code",
   "execution_count": 6,
   "metadata": {},
   "outputs": [
    {
     "ename": "AttributeError",
     "evalue": "module 'urllib' has no attribute 'urlopen'",
     "output_type": "error",
     "traceback": [
      "\u001b[0;31m---------------------------------------------------------------------------\u001b[0m",
      "\u001b[0;31mAttributeError\u001b[0m                            Traceback (most recent call last)",
      "\u001b[0;32m<ipython-input-6-c5db3e825fec>\u001b[0m in \u001b[0;36m<module>\u001b[0;34m()\u001b[0m\n\u001b[0;32m----> 1\u001b[0;31m \u001b[0mrosters\u001b[0m \u001b[0;34m=\u001b[0m \u001b[0mbuild_team_url\u001b[0m\u001b[0;34m(\u001b[0m\u001b[0;34m)\u001b[0m\u001b[0;34m\u001b[0m\u001b[0m\n\u001b[0m\u001b[1;32m      2\u001b[0m \u001b[0mcalculate_statistic\u001b[0m\u001b[0;34m(\u001b[0m\u001b[0mrosters\u001b[0m\u001b[0;34m)\u001b[0m\u001b[0;34m\u001b[0m\u001b[0m\n",
      "\u001b[0;32m<ipython-input-4-8ac3a56617ad>\u001b[0m in \u001b[0;36mbuild_team_url\u001b[0;34m()\u001b[0m\n\u001b[1;32m      3\u001b[0m     \u001b[0;31m# Open the webpage containing links to each roster,\u001b[0m\u001b[0;34m\u001b[0m\u001b[0;34m\u001b[0m\u001b[0m\n\u001b[1;32m      4\u001b[0m     \u001b[0;31m# and extract the names of each roster available.\u001b[0m\u001b[0;34m\u001b[0m\u001b[0;34m\u001b[0m\u001b[0m\n\u001b[0;32m----> 5\u001b[0;31m     \u001b[0mf\u001b[0m \u001b[0;34m=\u001b[0m \u001b[0murllib\u001b[0m\u001b[0;34m.\u001b[0m\u001b[0murlopen\u001b[0m\u001b[0;34m(\u001b[0m\u001b[0;34m'http://www.espn.com/nba/teams'\u001b[0m\u001b[0;34m)\u001b[0m\u001b[0;34m\u001b[0m\u001b[0m\n\u001b[0m\u001b[1;32m      6\u001b[0m     \u001b[0mwords\u001b[0m \u001b[0;34m=\u001b[0m \u001b[0mf\u001b[0m\u001b[0;34m.\u001b[0m\u001b[0mread\u001b[0m\u001b[0;34m(\u001b[0m\u001b[0;34m)\u001b[0m\u001b[0;34m.\u001b[0m\u001b[0mdecode\u001b[0m\u001b[0;34m(\u001b[0m\u001b[0;34m'utf-8'\u001b[0m\u001b[0;34m)\u001b[0m\u001b[0;34m\u001b[0m\u001b[0m\n\u001b[1;32m      7\u001b[0m     \u001b[0mteams\u001b[0m \u001b[0;34m=\u001b[0m \u001b[0mdict\u001b[0m\u001b[0;34m(\u001b[0m\u001b[0mre\u001b[0m\u001b[0;34m.\u001b[0m\u001b[0mfindall\u001b[0m\u001b[0;34m(\u001b[0m\u001b[0;34m\"www\\.espn\\.com/nba/team/_/name/(\\w+)/(.+?)\\\"\\sclass\"\u001b[0m\u001b[0;34m,\u001b[0m \u001b[0mwords\u001b[0m\u001b[0;34m)\u001b[0m\u001b[0;34m)\u001b[0m\u001b[0;34m\u001b[0m\u001b[0m\n",
      "\u001b[0;31mAttributeError\u001b[0m: module 'urllib' has no attribute 'urlopen'"
     ]
    }
   ],
   "source": [
    "rosters = build_team_url()\n",
    "calculate_statistic(rosters)"
   ]
  },
  {
   "cell_type": "markdown",
   "metadata": {},
   "source": [
    "Again, this is achieved by looping through all the team rosters on the ESPN website, then looping through all the players and extracting their salaries. The average salary per team is obtained by simply adding together the salaries and dividing by the number of people per team. I also use a simple sort function in Python to be able to see which player on each team is the highest paid."
   ]
  },
  {
   "cell_type": "markdown",
   "metadata": {},
   "source": [
    "Looking at the data, we can see who is paid the most:\n",
    "\n",
    "In general, webpages that link to subpages within the same site construct their links in some sort of standardized pattern. The techniques that I've outlined here should be broadly applicable for other websites. I hope what you've learned from this project will help you out on your own web scraping quests.\n",
    "\n",
    "Thanks for reading! I hope my code helped you understand how to perform basic web scraping using Python."
   ]
  },
  {
   "cell_type": "code",
   "execution_count": null,
   "metadata": {},
   "outputs": [],
   "source": []
  }
 ],
 "metadata": {
  "kernelspec": {
   "display_name": "Python 3",
   "language": "python",
   "name": "python3"
  },
  "language_info": {
   "codemirror_mode": {
    "name": "ipython",
    "version": 3
   },
   "file_extension": ".py",
   "mimetype": "text/x-python",
   "name": "python",
   "nbconvert_exporter": "python",
   "pygments_lexer": "ipython3",
   "version": "3.6.4"
  }
 },
 "nbformat": 4,
 "nbformat_minor": 2
}
